{
 "cells": [
  {
   "cell_type": "code",
   "execution_count": 1,
   "id": "d75bc23f",
   "metadata": {},
   "outputs": [],
   "source": [
    "import pandas as pd\n",
    "import re\n",
    "import string\n",
    "from sklearn.preprocessing import LabelEncoder\n",
    "from sklearn.preprocessing import MinMaxScaler\n",
    "from sklearn.pipeline import Pipeline\n",
    "from sklearn.model_selection import train_test_split\n",
    "from sklearn.tree import DecisionTreeClassifier\n",
    "from sklearn.ensemble import RandomForestClassifier\n",
    "from sklearn.ensemble import ExtraTreesClassifier\n",
    "from sklearn.metrics import accuracy_score\n",
    "from sklearn.metrics import f1_score,confusion_matrix,classification_report\n",
    "import pickle"
   ]
  },
  {
   "cell_type": "markdown",
   "id": "82dcedd5",
   "metadata": {},
   "source": [
    "# Classe Preprocessing"
   ]
  },
  {
   "cell_type": "code",
   "execution_count": 2,
   "id": "50c6f3ff",
   "metadata": {},
   "outputs": [],
   "source": [
    "class Preprocess():\n",
    "    \n",
    "    # Attribut de classe\n",
    "    wordsList = ['prize','urgent','free','mobile','please','cash','chat','win','txt','reply','phone','new',\n",
    "        'now','call','tone','claim','won','chance']\n",
    "    \n",
    "    # constructeur\n",
    "    def __init__(self,df):\n",
    "        self.df_ = df\n",
    "        self.df_['text'] = self.df_['text'].apply(self.text_cleaning_encoding)\n",
    "        self.df_['length'] = self.df_['text'].str.len()\n",
    "        self.df_['words_count'] = self.df_['text'].apply(lambda x: len(x.split(\" \")))\n",
    "        self.df_['uppercases_count'] = self.df_['text'].str.findall(r'[A-Z]').str.len()\n",
    "        self.df_['lowercases_count'] = self.df_['text'].str.findall(r'[a-z]').str.len()\n",
    "        self.df_['number_sequence'] = self.df_['text'].map(self.isNumberSequenceInText)\n",
    "        self.df_['url_or_mail'] = self.df_['text'].map(self.isUrlMailInText)\n",
    "        self.df_['special_char_count'] = self.df_['text'].map(self.countSpecialCharInText)\n",
    "        self.df_['words_fateful_count'] = self.df_['text'].map(self.countWordsInText)\n",
    "        \n",
    "        # Suppresion de la colonne text, inutile pour le ML\n",
    "        self.df_.drop('text',axis=1,inplace=True)\n",
    "        \n",
    "        # Preparation des features et de la target pour entrainement\n",
    "        # ------------------------\n",
    "        # Est-ce le dataframe d'entrainement ou celui de la prediction ?\n",
    "        self.y = None # Pas de target si c'est pour une prediction\n",
    "        if 'target' in self.df_.columns:\n",
    "            self.X = self.df_.drop(columns=['target','special_char_count','words_fateful_count'])\n",
    "            \n",
    "            # et encodage de la target (1 ou 0)\n",
    "            self.lb_encod = LabelEncoder()\n",
    "            self.y = self.lb_encod.fit_transform(self.df_['target'])\n",
    "            \n",
    "        else:\n",
    "            self.X = self.df_.drop(columns=['special_char_count','words_fateful_count'])\n",
    "        \n",
    "        # Preparation des colonnes pour normalisation\n",
    "        self.column_num = ['length','words_count','uppercases_count','lowercases_count']\n",
    "        self.transfo_num = Pipeline(steps=[('scaling', MinMaxScaler())])\n",
    "        #self.transfo_num = Pipeline(steps=[('imputer',SimpleImputer())])\n",
    "        \n",
    "\n",
    "    def text_cleaning_encoding(self,text):\n",
    "        text = re.sub('&lt;#&gt;',\"\",text) #Removing square brackets from the text\n",
    "        return(text) \n",
    "        \n",
    "    def isNumberSequenceInText(self,txt):\n",
    "        if bool(re.search(\"(\\d{2})\", txt)):\n",
    "            return 1\n",
    "        else:\n",
    "            return 0\n",
    "\n",
    "    def isUrlMailInText(self,txt):\n",
    "        if bool(re.search(\"((https?:\\/\\/|www\\.)[a-zA-Z0-9-_\\.]+)|(\\w+@\\w+)\", txt)):\n",
    "            return 1\n",
    "        else:\n",
    "            return 0\n",
    "\n",
    "\n",
    "    def countSpecialCharInText(self,txt):\n",
    "        category = 0\n",
    "        nbSpecialChar = len(re.findall(\"[$&+:;=?@#|'<>^*()%!-]\", txt))\n",
    "        if nbSpecialChar == 1:\n",
    "            category = 1\n",
    "        elif nbSpecialChar > 1 and nbSpecialChar < 7:\n",
    "            category = 2\n",
    "        elif nbSpecialChar > 6 and nbSpecialChar < 13:\n",
    "            category = 3\n",
    "        elif nbSpecialChar > 12:\n",
    "            category = 4\n",
    "\n",
    "        return category\n",
    "\n",
    "    def countWordsInText(self,txt):\n",
    "        res = 0\n",
    "        nb = 0\n",
    "        for i in Preprocess.wordsList:\n",
    "            nb += len(re.findall(r\"\\b\" + i + r\"\\b\", txt))\n",
    "\n",
    "        if nb > 3:\n",
    "            res = 1\n",
    "        else:\n",
    "            res = 0\n",
    "\n",
    "        return res\n",
    "    \n",
    "    def getDf(self):\n",
    "        return self.df_\n",
    "    \n",
    "    def getPipeline(self):\n",
    "        return self.transfo_num\n",
    "    \n",
    "    def getFeatures(self):\n",
    "        return self.X\n",
    "    \n",
    "    def getTarget(self):\n",
    "        return self.y"
   ]
  },
  {
   "cell_type": "markdown",
   "id": "c8aa9e14",
   "metadata": {},
   "source": [
    "# Classe ModelEvaluation"
   ]
  },
  {
   "cell_type": "code",
   "execution_count": 3,
   "id": "b9aecf25",
   "metadata": {},
   "outputs": [],
   "source": [
    "class ModelEvaluation():\n",
    "    \n",
    "    # constructeur\n",
    "    def __init__(self,pipeline,model):\n",
    "        self.model = model\n",
    "        self.pipeline = pipeline\n",
    "        self.addStepModel()\n",
    "        self.fitModel()\n",
    "        self.predict(X_test)\n",
    "        self.showScore()\n",
    "        \n",
    "    def addStepModel(self):\n",
    "        self.pipeline.steps.append(['model',self.model])\n",
    "        print(self.pipeline)\n",
    "        \n",
    "    def fitModel(self):\n",
    "        self.pipeline.fit(X_train, y_train)\n",
    "    \n",
    "    def predict(self,X_test):\n",
    "        self.y_pred = self.pipeline.predict(X_test)\n",
    "        \n",
    "    def predict_proba(self,X_test):\n",
    "        print(self.pipeline.predict_proba(X_test)) \n",
    "        \n",
    "    def showScore(self):\n",
    "        self.score = accuracy_score(y_test, self.y_pred)\n",
    "        print(self.model,\"score :\", round(self.score, 5))\n",
    "        \n",
    "    def getTargetPred(self):\n",
    "        return self.y_pred\n",
    "    \n",
    "    def getPipeline(self):\n",
    "        return self.pipeline"
   ]
  },
  {
   "cell_type": "code",
   "execution_count": 4,
   "id": "c50939b6",
   "metadata": {},
   "outputs": [],
   "source": [
    "# Dataframe SpamClassifier\n",
    "df = pd.read_csv('spam.csv',encoding = \"latin-1\")"
   ]
  },
  {
   "cell_type": "code",
   "execution_count": 5,
   "id": "44865082",
   "metadata": {},
   "outputs": [],
   "source": [
    "# Nettoyage du dataframe\n",
    "df.drop(['Unnamed: 2', 'Unnamed: 3','Unnamed: 4'],axis=1,inplace=True)\n",
    "df.rename(columns={\"v1\": \"target\", \"v2\": \"text\"},inplace=True)\n",
    "df.drop_duplicates(inplace=True) # Suppression des doublons"
   ]
  },
  {
   "cell_type": "code",
   "execution_count": 6,
   "id": "c11c6cfc",
   "metadata": {},
   "outputs": [],
   "source": [
    "preproc = Preprocess(df)"
   ]
  },
  {
   "cell_type": "code",
   "execution_count": 7,
   "id": "6cbbcd65",
   "metadata": {},
   "outputs": [],
   "source": [
    "df = preproc.getDf()\n",
    "X = preproc.getFeatures()\n",
    "y = preproc.getTarget()\n",
    "pipeline = preproc.getPipeline()"
   ]
  },
  {
   "cell_type": "code",
   "execution_count": 8,
   "id": "f431ad2c",
   "metadata": {},
   "outputs": [],
   "source": [
    "# Preparation pour entrainement\n",
    "X_train, X_test, y_train, y_test = train_test_split(X, y,stratify=y, test_size=0.2, random_state=42)"
   ]
  },
  {
   "cell_type": "code",
   "execution_count": 9,
   "id": "d78dc0b6",
   "metadata": {},
   "outputs": [
    {
     "name": "stdout",
     "output_type": "stream",
     "text": [
      "Pipeline(steps=[('scaling', MinMaxScaler()),\n",
      "                ['model', RandomForestClassifier()]])\n",
      "RandomForestClassifier() score : 0.98259\n"
     ]
    }
   ],
   "source": [
    "RandomForest = ModelEvaluation(pipeline,RandomForestClassifier())"
   ]
  },
  {
   "cell_type": "code",
   "execution_count": 10,
   "id": "872d6675",
   "metadata": {},
   "outputs": [
    {
     "name": "stdout",
     "output_type": "stream",
     "text": [
      "RandomForestClassifier() score : 0.98259\n"
     ]
    }
   ],
   "source": [
    "RandomForest.showScore()"
   ]
  },
  {
   "cell_type": "code",
   "execution_count": 11,
   "id": "c6938e7c",
   "metadata": {},
   "outputs": [],
   "source": [
    "from sklearn.metrics import plot_confusion_matrix\n",
    "import matplotlib.pyplot as plt"
   ]
  },
  {
   "cell_type": "code",
   "execution_count": 12,
   "id": "db02e8ae",
   "metadata": {},
   "outputs": [
    {
     "data": {
      "image/png": "[encoded data removed]",
      "text/plain": [
       "<Figure size 432x288 with 2 Axes>"
      ]
     },
     "metadata": {
      "needs_background": "light"
     },
     "output_type": "display_data"
    }
   ],
   "source": [
    "import seaborn as sns\n",
    "import matplotlib.pyplot as plt\n",
    "\n",
    "cf_matrix = confusion_matrix(y_test, RandomForest.getTargetPred())\n",
    "#plt.figure(figsize=(10,6),)\n",
    "#sns.heatmap(cf_matrix, annot=True)\n",
    "#print(cf_matrix)\n",
    "ax = sns.heatmap(cf_matrix, annot=True, fmt=\"d\")\n"
   ]
  },
  {
   "cell_type": "code",
   "execution_count": 13,
   "id": "681dc9a5",
   "metadata": {},
   "outputs": [
    {
     "name": "stdout",
     "output_type": "stream",
     "text": [
      "[[897   6]\n",
      " [ 12 119]]\n",
      "              precision    recall  f1-score   support\n",
      "\n",
      "           0       0.99      0.99      0.99       903\n",
      "           1       0.95      0.91      0.93       131\n",
      "\n",
      "    accuracy                           0.98      1034\n",
      "   macro avg       0.97      0.95      0.96      1034\n",
      "weighted avg       0.98      0.98      0.98      1034\n",
      "\n"
     ]
    }
   ],
   "source": [
    "def evaluation(model):\n",
    "    print(confusion_matrix(y_test,RandomForest.getTargetPred()))\n",
    "    print(classification_report(y_test,RandomForest.getTargetPred()))\n",
    "    \n",
    "evaluation(RandomForest.getPipeline())"
   ]
  },
  {
   "cell_type": "code",
   "execution_count": 14,
   "id": "5f9e4614",
   "metadata": {},
   "outputs": [
    {
     "data": {
      "text/plain": [
       "\"\\nRandomForest.predict(X_new)\\ny_pred_new = RandomForest.getTargetPred()\\nif y_pred_new == 0:\\n    print('ham')\\nelse:\\n    print('spam')\\n\""
      ]
     },
     "execution_count": 14,
     "metadata": {},
     "output_type": "execute_result"
    }
   ],
   "source": [
    "\"\"\"\n",
    "RandomForest.predict(X_new)\n",
    "y_pred_new = RandomForest.getTargetPred()\n",
    "if y_pred_new == 0:\n",
    "    print('ham')\n",
    "else:\n",
    "    print('spam')\n",
    "\"\"\""
   ]
  },
  {
   "cell_type": "code",
   "execution_count": 15,
   "id": "864868fc",
   "metadata": {},
   "outputs": [],
   "source": [
    "# Creation d'un nouveau dataframe\n",
    "df_predict = pd.DataFrame()\n",
    "df_predict['text'] = ['XXXMobileMovieClub: To use your credit, click the WAP link in the next txt message or click here>> http://wap. xxxmobilemovieclub.com?n=QJKGIGHJJGCBL']#['www.sexshop.com 4654987 call dollards']\n",
    "preprocess = Preprocess(df_predict)\n",
    "df_new = preprocess.getDf() \n",
    "X_new = preprocess.getFeatures()"
   ]
  },
  {
   "cell_type": "code",
   "execution_count": 25,
   "id": "d8745da5",
   "metadata": {},
   "outputs": [],
   "source": [
    "# Enregistrement du modele\n",
    "saved_model = pickle.dump(RandomForest.getPipeline(),open('model.pkl','wb'))"
   ]
  },
  {
   "cell_type": "code",
   "execution_count": 17,
   "id": "151bd303",
   "metadata": {},
   "outputs": [],
   "source": [
    "# Test d'une conversion d'un modele en binary avant export (serialization)\n",
    "saved_model = pickle.dumps(RandomForest.getPipeline())\n",
    "RandomForestBinary = pickle.loads(saved_model) # Load the pickled model"
   ]
  },
  {
   "cell_type": "code",
   "execution_count": 18,
   "id": "28f9bcc9",
   "metadata": {},
   "outputs": [],
   "source": [
    "def labelEncode(y):\n",
    "    if y == 0:\n",
    "        return 'ham'\n",
    "    else:\n",
    "        return 'spam'"
   ]
  },
  {
   "cell_type": "code",
   "execution_count": 19,
   "id": "9ee1e83a",
   "metadata": {},
   "outputs": [
    {
     "name": "stdout",
     "output_type": "stream",
     "text": [
      "spam\n",
      "[[0.13 0.87]]\n"
     ]
    }
   ],
   "source": [
    "# Prediction et recuperation de la prediction du modele de jupyter\n",
    "y_pred = RandomForest.getPipeline().predict(X_new) \n",
    "#y_pred = RandomForest.getTargetPred()\n",
    "print(labelEncode(y_pred))\n",
    "print(RandomForest.getPipeline().predict_proba(X_new))"
   ]
  },
  {
   "cell_type": "code",
   "execution_count": 20,
   "id": "a4790fe0",
   "metadata": {},
   "outputs": [
    {
     "name": "stdout",
     "output_type": "stream",
     "text": [
      "spam\n",
      "[[0.13 0.87]]\n"
     ]
    }
   ],
   "source": [
    "# Prediction du modele binaire generé\n",
    "y_binary_pred = RandomForestBinary.predict(X_new)\n",
    "print(labelEncode(y_binary_pred))\n",
    "print(RandomForestBinary.predict_proba(X_new))"
   ]
  },
  {
   "cell_type": "code",
   "execution_count": 22,
   "id": "a7459706",
   "metadata": {},
   "outputs": [],
   "source": [
    "import joblib\n",
    "modelJoblib = joblib.dump(RandomForest.getPipeline(),'model_jlib')"
   ]
  },
  {
   "cell_type": "code",
   "execution_count": 23,
   "id": "12eaed28",
   "metadata": {},
   "outputs": [],
   "source": [
    "m_jlib = joblib.load('model_jlib')"
   ]
  },
  {
   "cell_type": "code",
   "execution_count": 24,
   "id": "dfe007a0",
   "metadata": {},
   "outputs": [
    {
     "name": "stdout",
     "output_type": "stream",
     "text": [
      "spam\n",
      "[[0.13 0.87]]\n"
     ]
    }
   ],
   "source": [
    "y_joblib = m_jlib.predict(X_new)\n",
    "print(labelEncode(y_joblib))\n",
    "print(m_jlib.predict_proba(X_new))"
   ]
  }
 ],
 "metadata": {
  "kernelspec": {
   "display_name": "Python 3 (ipykernel)",
   "language": "python",
   "name": "python3"
  },
  "language_info": {
   "codemirror_mode": {
    "name": "ipython",
    "version": 3
   },
   "file_extension": ".py",
   "mimetype": "text/x-python",
   "name": "python",
   "nbconvert_exporter": "python",
   "pygments_lexer": "ipython3",
   "version": "3.8.12"
  }
 },
 "nbformat": 4,
 "nbformat_minor": 5
}
